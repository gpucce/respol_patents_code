{
 "cells": [
  {
   "cell_type": "code",
   "execution_count": 8,
   "metadata": {},
   "outputs": [],
   "source": [
    "import requests\n",
    "import pandas as pd\n",
    "import elsapy\n",
    "\n",
    "from elsapy.elsclient import ElsClient\n",
    "from elsapy.elsprofile import ElsAuthor, ElsAffil\n",
    "from elsapy.elsdoc import FullDoc, AbsDoc\n",
    "from elsapy.elssearch import ElsSearch\n",
    "import json\n",
    "import os\n",
    "import os.path as osp"
   ]
  },
  {
   "cell_type": "code",
   "execution_count": 9,
   "metadata": {},
   "outputs": [],
   "source": [
    "with open(\"config.json\") as con_file:\n",
    "    config = json.load(con_file)\n",
    "\n",
    "## Initialize client\n",
    "client = ElsClient(config['apikey'])"
   ]
  },
  {
   "cell_type": "code",
   "execution_count": 29,
   "metadata": {},
   "outputs": [],
   "source": [
    "extended_query = [\n",
    "  'fuzzy logic', 'logic programming', 'declarative programming', 'expert system', 'inference engine', 'knowledge base', 'machine learning',\n",
    "  'feature selection', 'adaboost', 'rankboost', 'stochastic gradient descent', 'supervised learning', 'semi-supervised learning', 'cluster analysis',\n",
    "  'anomaly detection', 'topic modeling', 'dimensionality reduction', 'manifold learning', 'unsupervised learning', 'xgboost', 'random forest', 'support vector machine',\n",
    "  'artificial neural network', 'deep neural network', 'deep learning', 'convolutional network', 'recurrent neural network', 'gated recurrent unit', 'long short term memory',\n",
    "  'maximum a posteriori model', 'latent variable model', 'bayes network', 'conditional random field', 'hidden markov rule', 'instance based learning', \n",
    "  'k nearest neighbor', 'latent dirichlet allocation'\n",
    "]\n",
    "\n",
    "extended_query = [\n",
    "  \"\\\"\" + i + \"\\\"\" for i in extended_query\n",
    "]\n",
    "\n",
    "joint_query = \" OR \".join(extended_query)\n",
    "\n",
    "joint_query = f\"TITLE-ABS-KEY({joint_query}) AND PUBYEAR = 2021\""
   ]
  },
  {
   "cell_type": "code",
   "execution_count": 12,
   "metadata": {},
   "outputs": [],
   "source": [
    "doc_srch = ElsSearch(joint_query, 'scopus')\n",
    "doc_srch.execute(client, get_all=True)"
   ]
  },
  {
   "cell_type": "code",
   "execution_count": 13,
   "metadata": {},
   "outputs": [],
   "source": [
    "def get_scp_id(entry):\n",
    "    return int(entry['dc:identifier'].split(\":\")[1])\n",
    "urls = [x['prism:url'] for x in doc_srch.results]\n",
    "for doc in urls:\n",
    "    abs_doc = AbsDoc(doc)\n",
    "    if abs_doc.read(client):\n",
    "        abs_doc.write()"
   ]
  },
  {
   "cell_type": "code",
   "execution_count": 16,
   "metadata": {},
   "outputs": [],
   "source": [
    "docs = []\n",
    "doc_paths = [osp.join('data', i) for i in os.listdir(\"data\")]\n",
    "for doc_path in doc_paths:\n",
    "    with open(doc_path) as doc_file:\n",
    "        abstract = json.load(doc_file)['item']['bibrecord']['head']['abstracts']\n",
    "        if abstract != None:\n",
    "            docs.append(abstract)\n"
   ]
  },
  {
   "cell_type": "code",
   "execution_count": 28,
   "metadata": {},
   "outputs": [
    {
     "data": {
      "text/plain": [
       "['\"cluster analysis\"', '\"support vector machine\"']"
      ]
     },
     "execution_count": 28,
     "metadata": {},
     "output_type": "execute_result"
    }
   ],
   "source": [
    "[i for i in extended_query if i[1:-1] in docs[0].lower()]\n",
    "# \"\\\"cluster analysis\\\"\" in extended_query #docs[0]\n",
    "# extended_query"
   ]
  }
 ],
 "metadata": {
  "interpreter": {
   "hash": "276ab97e86a9d18f06ad2feb3ee89ed348f3b3cc02f44e9bad0397036fddbb30"
  },
  "jupytext": {
   "formats": "ipynb,py:percent"
  },
  "kernelspec": {
   "display_name": "Python 3.8.8 64-bit ('base': conda)",
   "language": "python",
   "name": "python3"
  },
  "language_info": {
   "codemirror_mode": {
    "name": "ipython",
    "version": 3
   },
   "file_extension": ".py",
   "mimetype": "text/x-python",
   "name": "python",
   "nbconvert_exporter": "python",
   "pygments_lexer": "ipython3",
   "version": "3.8.8"
  }
 },
 "nbformat": 4,
 "nbformat_minor": 2
}
