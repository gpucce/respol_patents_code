{
 "cells": [
  {
   "cell_type": "code",
   "execution_count": null,
   "id": "a9379b7a",
   "metadata": {
    "lines_to_next_cell": 1
   },
   "outputs": [],
   "source": [
    "import pandas as pd\n",
    "import os\n",
    "import os.path as osp\n",
    "import re\n",
    "import numpy as np\n",
    "from pandas._libs.missing import NA\n",
    "from tqdm.auto import tqdm"
   ]
  },
  {
   "cell_type": "code",
   "execution_count": null,
   "id": "a7bd0dee",
   "metadata": {},
   "outputs": [],
   "source": [
    "def read_patent(patent_path):\n",
    "    with open(patent_path, \"r\") as patent_file:\n",
    "        patent = patent_file.read().replace(\"\\n\", \"\").lower()\n",
    "    return patent \n",
    "\n",
    "def split_patent(patent_path, id=1, fields=[\"claims\", \"title\", \"abstract\", \"filing_date\", \"priority_date\", \"docdb_family_id\"]):\n",
    "    patent = read_patent(patent_path)\n",
    "    patent_name = osp.splitext(osp.basename(patent_path))[0]\n",
    "    chunks = {\"local_id\":id, \"global_id\":patent_name}\n",
    "    for part in fields:\n",
    "        try:\n",
    "            chunks[part] = re.search(f\"(?<=<{part}>)(.*)(?=</{part}>)\", patent).group(0)\n",
    "        except:\n",
    "            chunks[part] = np.nan\n",
    "        \n",
    "    return chunks"
   ]
  },
  {
   "cell_type": "code",
   "execution_count": null,
   "id": "348b8cba",
   "metadata": {},
   "outputs": [],
   "source": [
    "patents_folders = [\n",
    "    \"../data/input/txt1\", \n",
    "    \"../data/input/txt2\", \n",
    "    \"../data/input/txt3\"\n",
    "    ]\n",
    "\n",
    "fields = [\"claims\", \"title\", \"abstract\", \"filing_date\", \"priority_date\", \"docdb_family_id\"]"
   ]
  },
  {
   "cell_type": "code",
   "execution_count": null,
   "id": "e17fcd7e",
   "metadata": {},
   "outputs": [],
   "source": [
    "\n",
    "\n",
    "all_patents = []\n",
    "for dir in patents_folders:\n",
    "    all_patents += [dir + \"/\" + i for i in os.listdir(dir)]\n",
    "\n"
   ]
  },
  {
   "cell_type": "code",
   "execution_count": null,
   "id": "370aa769",
   "metadata": {},
   "outputs": [],
   "source": [
    "progressbar = tqdm(range(len(all_patents)))\n",
    "all_parsed_patents = []\n",
    "for idx, i in enumerate(all_patents):\n",
    "    all_parsed_patents.append(split_patent(i, idx))\n",
    "    progressbar.update(1)"
   ]
  },
  {
   "cell_type": "code",
   "execution_count": null,
   "id": "b07967da",
   "metadata": {},
   "outputs": [],
   "source": [
    "future_claims_df = {\n",
    "    \"patent\":[i[\"global_id\"] for i in all_parsed_patents],\n",
    "    \"claim\":[i[\"claims\"] for i in all_parsed_patents],\n",
    "    \"docdb_family_id\":[i[\"docdb_family_id\"] for i in all_parsed_patents]\n",
    "    }\n",
    "\n",
    "future_local_global_id = {\n",
    "    \"local_id\":[i[\"local_id\"] for i in all_parsed_patents],\n",
    "    \"patent\":[i[\"global_id\"] for i in all_parsed_patents]\n",
    "    }\n",
    "\n",
    "future_title_abstract_df = dict()\n",
    "for i in [i for i in fields if i != \"claims\"] + [\"global_id\"]:\n",
    "    if i == \"global_id\":\n",
    "        future_title_abstract_df[\"patent\"] = [j[i] for j in all_parsed_patents]\n",
    "        continue    \n",
    "    future_title_abstract_df[i] = [j[i] for j in all_parsed_patents]    "
   ]
  },
  {
   "cell_type": "code",
   "execution_count": null,
   "id": "e482e527",
   "metadata": {},
   "outputs": [],
   "source": [
    "pd.DataFrame(future_title_abstract_df).to_csv(\"../data/input/title_abstract.csv\", sep=\"\\t\", index=False)\n",
    "pd.DataFrame(future_claims_df).to_csv(\"../data/input/claims.csv\", sep=\"\\t\", index=False)\n",
    "pd.DataFrame(future_claims_df).to_csv(\"../data/input/patent_ids.csv\", sep=\"\\t\", index=False)"
   ]
  },
  {
   "cell_type": "code",
   "execution_count": null,
   "id": "7a65e93f",
   "metadata": {},
   "outputs": [],
   "source": []
  }
 ],
 "metadata": {
  "jupytext": {
   "cell_metadata_filter": "-all",
   "formats": "ipynb,py:percent",
   "main_language": "python"
  }
 },
 "nbformat": 4,
 "nbformat_minor": 5
}
